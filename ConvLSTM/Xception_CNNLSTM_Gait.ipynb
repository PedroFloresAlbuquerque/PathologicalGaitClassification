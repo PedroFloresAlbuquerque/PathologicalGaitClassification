{
 "cells": [
  {
   "cell_type": "code",
   "execution_count": 1,
   "metadata": {},
   "outputs": [
    {
     "output_type": "stream",
     "name": "stderr",
     "text": "Using TensorFlow backend.\n"
    }
   ],
   "source": [
    "####### Imports #######\n",
    "import re\n",
    "import os\n",
    "import sys\n",
    "sys.path.append('/home/pfa/Documents/PathologicalGaitClassification')\n",
    "import numpy as np\n",
    "from keras.applications import Xception\n",
    "from keras.models import Model\n",
    "from keras.layers import Dense, Input, ConvLSTM2D, GlobalAveragePooling2D, Dropout\n",
    "from keras.layers.wrappers import TimeDistributed\n",
    "from keras.optimizers import Nadam\n",
    "from keras.callbacks import ModelCheckpoint, EarlyStopping\n",
    "from keras.preprocessing import image\n",
    "from keras.utils import to_categorical\n",
    "import matplotlib.pyplot as plt\n",
    "from sort import sort_nicely\n",
    "from multiprocessing import Process, Manager\n",
    "import pickle\n",
    "import json"
   ]
  },
  {
   "cell_type": "code",
   "execution_count": 2,
   "metadata": {},
   "outputs": [],
   "source": [
    "## Get datase\n",
    "base_dir = '/home/datasets/GAIT-IT'\n",
    "metadata_dir = '/home/datasets/metadata'\n",
    "\n",
    "sample_count = 0\n",
    "all_images = {'train': [], 'validation': [], 'test': []}\n",
    "all_labels = {'train': [], 'validation': [], 'test': []}\n",
    "subjects_data = {}\n",
    "train_subjs = ['s1','s2','s3','s4','s5','s6','s7','s8','s9','s10','s11','s12','s13','s14','s15','s16','s17','s18','s19']\n",
    "validation_subjs = ['s20','s21']\n",
    "test_subjs = ['s22','s23']\n",
    "train_images = []; train_labels = []\n",
    "validation_images = []; validation_labels = []\n",
    "test_images = []; test_labels = []\n",
    "\n",
    "classes = {'Diplegic' : 0, 'Hemiplegic' : 1, 'Neuropathic' : 2, 'Normal' : 3, 'Parkinson' : 4}\n",
    "classes_inv = {0 : 'Diplegic', 1 : 'Hemiplegic', 2 : 'Neuropathic', 3 : 'Normal', 4 : 'Parkinson'}"
   ]
  },
  {
   "cell_type": "code",
   "execution_count": 3,
   "metadata": {
    "tags": [
     "outputPrepend",
     "outputPrepend",
     "outputPrepend",
     "outputPrepend",
     "outputPrepend",
     "outputPrepend",
     "outputPrepend",
     "outputPrepend",
     "outputPrepend",
     "outputPrepend",
     "outputPrepend",
     "outputPrepend",
     "outputPrepend",
     "outputPrepend",
     "outputPrepend",
     "outputPrepend",
     "outputPrepend",
     "outputPrepend",
     "outputPrepend",
     "outputPrepend",
     "outputPrepend",
     "outputPrepend",
     "outputPrepend",
     "outputPrepend",
     "outputPrepend",
     "outputPrepend",
     "outputPrepend",
     "outputPrepend",
     "outputPrepend",
     "outputPrepend",
     "outputPrepend",
     "outputPrepend",
     "outputPrepend",
     "outputPrepend",
     "outputPrepend",
     "outputPrepend",
     "outputPrepend",
     "outputPrepend",
     "outputPrepend",
     "outputPrepend",
     "outputPrepend"
    ]
   },
   "outputs": [
    {
     "output_type": "stream",
     "name": "stdout",
     "text": "/home/datasets/GAIT-IT/Diplegic\n/home/datasets/GAIT-IT/Hemiplegic\n/home/datasets/GAIT-IT/Neuropathic\n/home/datasets/GAIT-IT/Normal\n/home/datasets/GAIT-IT/Parkinson\n27486\n3564\n3285\n27486\n3564\n3285\n"
    }
   ],
   "source": [
    "## Train silhouettes directories\n",
    "\n",
    "# Sort pathologies, OCD purposes only\n",
    "pathologies = list(classes.keys())\n",
    "sort_nicely(pathologies)\n",
    "for pathology in pathologies:\n",
    "\n",
    "    pathology_dir = base_dir + '/{}'.format(pathology)\n",
    "    print(pathology_dir)\n",
    "    pathology_subj_folders = [name for name in os.listdir(pathology_dir) if os.path.isdir(os.path.join(pathology_dir, name))]\n",
    "    sort_nicely(pathology_subj_folders)\n",
    "    \n",
    "    # /Pathology/subj{i}/silhouettes/subj_{i}-pat_{j}-lvl_{k}-{l}_{direction}\n",
    "    for subj_folder in pathology_subj_folders:\n",
    "\n",
    "        # if subj_folder not in ['s1', 's2', 's3', 's4', 's5', 's6', 's7', 's8', 's9', 's10', 's11', 's12','s13','s14']: continue\n",
    "        if subj_folder in train_subjs: subj_set = 'train'\n",
    "        elif subj_folder in validation_subjs: subj_set = 'validation'\n",
    "        elif subj_folder in test_subjs: subj_set = 'test'\n",
    "\n",
    "        subj_folder_dir = os.path.join(pathology_dir, subj_folder)\n",
    "        # print(subj_folder_dir)\n",
    "        subj_silhouettes_dir = os.path.join(subj_folder_dir, 'silhouettes', 'side_view')\n",
    "        # print(subj_silhouettes_dir)\n",
    "\n",
    "        subj_silhouettes_folders = [name for name in os.listdir(subj_silhouettes_dir) if os.path.isdir(os.path.join(subj_silhouettes_dir, name))]\n",
    "        sort_nicely(subj_silhouettes_folders)\n",
    "\n",
    "        folders = [f for f in subj_silhouettes_folders if '_' in f]\n",
    "        for folder in folders:\n",
    "\n",
    "            # Initialize dictionary to store key frames\n",
    "            key_frames = {}\n",
    "\n",
    "            # Directory with metadata about current folder\n",
    "            subj_silhouettes_metadata_dir = subj_silhouettes_dir.replace('GAIT-IT', 'metadata')\n",
    "            subj_pat_metadata = os.path.join(subj_silhouettes_metadata_dir,'metadata/key_frames.json')\n",
    "\n",
    "            with open(subj_pat_metadata) as f:\n",
    "                key_frames = json.load(f)\n",
    "\n",
    "            # Directory with the sillouettes images\n",
    "            subj_pat_lvl_dir = os.path.join(subj_silhouettes_dir, folder)\n",
    "            # print(subj_pat_lvl_dir)\n",
    "\n",
    "            files = os.listdir(subj_pat_lvl_dir)\n",
    "            sort_nicely(files)\n",
    "            file_names = [files[f] for f in key_frames[folder]]\n",
    "            \n",
    "            # Convert images to numpy arrays, put in batches\n",
    "            # for file_name in file_names:\n",
    "            for i in range(0, len(file_names)-8, 9):\n",
    "                for j in range(0,9):\n",
    "                    file_path = os.path.join(subj_pat_lvl_dir, file_names[i+j])\n",
    "                    img = image.load_img(file_path, target_size=(224, 224))\n",
    "                    img_tensor = image.img_to_array(img)\n",
    "                    sample_count += 1\n",
    "\n",
    "                    all_images[subj_set].append(img_tensor)\n",
    "                    all_labels[subj_set].append(classes[pathology])\n",
    "print(len(all_images['train'])); print(len(all_images['validation'])); print(len(all_images['test']))\n",
    "print(len(all_labels['train'])); print(len(all_labels['validation'])); print(len(all_labels['test']))\n",
    "                "
   ]
  },
  {
   "cell_type": "code",
   "execution_count": 4,
   "metadata": {
    "tags": [
     "outputPrepend",
     "outputPrepend",
     "outputPrepend",
     "outputPrepend"
    ]
   },
   "outputs": [
    {
     "output_type": "stream",
     "name": "stdout",
     "text": "_______\nblock5_sepconv1 (SeparableConv2 (None, 14, 14, 728)  536536      block5_sepconv1_act[0][0]        \n__________________________________________________________________________________________________\nblock5_sepconv1_bn (BatchNormal (None, 14, 14, 728)  2912        block5_sepconv1[0][0]            \n__________________________________________________________________________________________________\nblock5_sepconv2_act (Activation (None, 14, 14, 728)  0           block5_sepconv1_bn[0][0]         \n__________________________________________________________________________________________________\nblock5_sepconv2 (SeparableConv2 (None, 14, 14, 728)  536536      block5_sepconv2_act[0][0]        \n__________________________________________________________________________________________________\nblock5_sepconv2_bn (BatchNormal (None, 14, 14, 728)  2912        block5_sepconv2[0][0]            \n__________________________________________________________________________________________________\nblock5_sepconv3_act (Activation (None, 14, 14, 728)  0           block5_sepconv2_bn[0][0]         \n__________________________________________________________________________________________________\nblock5_sepconv3 (SeparableConv2 (None, 14, 14, 728)  536536      block5_sepconv3_act[0][0]        \n__________________________________________________________________________________________________\nblock5_sepconv3_bn (BatchNormal (None, 14, 14, 728)  2912        block5_sepconv3[0][0]            \n__________________________________________________________________________________________________\nadd_4 (Add)                     (None, 14, 14, 728)  0           block5_sepconv3_bn[0][0]         \n                                                                 add_3[0][0]                      \n__________________________________________________________________________________________________\nblock6_sepconv1_act (Activation (None, 14, 14, 728)  0           add_4[0][0]                      \n__________________________________________________________________________________________________\nblock6_sepconv1 (SeparableConv2 (None, 14, 14, 728)  536536      block6_sepconv1_act[0][0]        \n__________________________________________________________________________________________________\nblock6_sepconv1_bn (BatchNormal (None, 14, 14, 728)  2912        block6_sepconv1[0][0]            \n__________________________________________________________________________________________________\nblock6_sepconv2_act (Activation (None, 14, 14, 728)  0           block6_sepconv1_bn[0][0]         \n__________________________________________________________________________________________________\nblock6_sepconv2 (SeparableConv2 (None, 14, 14, 728)  536536      block6_sepconv2_act[0][0]        \n__________________________________________________________________________________________________\nblock6_sepconv2_bn (BatchNormal (None, 14, 14, 728)  2912        block6_sepconv2[0][0]            \n__________________________________________________________________________________________________\nblock6_sepconv3_act (Activation (None, 14, 14, 728)  0           block6_sepconv2_bn[0][0]         \n__________________________________________________________________________________________________\nblock6_sepconv3 (SeparableConv2 (None, 14, 14, 728)  536536      block6_sepconv3_act[0][0]        \n__________________________________________________________________________________________________\nblock6_sepconv3_bn (BatchNormal (None, 14, 14, 728)  2912        block6_sepconv3[0][0]            \n__________________________________________________________________________________________________\nadd_5 (Add)                     (None, 14, 14, 728)  0           block6_sepconv3_bn[0][0]         \n                                                                 add_4[0][0]                      \n__________________________________________________________________________________________________\nblock7_sepconv1_act (Activation (None, 14, 14, 728)  0           add_5[0][0]                      \n__________________________________________________________________________________________________\nblock7_sepconv1 (SeparableConv2 (None, 14, 14, 728)  536536      block7_sepconv1_act[0][0]        \n__________________________________________________________________________________________________\nblock7_sepconv1_bn (BatchNormal (None, 14, 14, 728)  2912        block7_sepconv1[0][0]            \n__________________________________________________________________________________________________\nblock7_sepconv2_act (Activation (None, 14, 14, 728)  0           block7_sepconv1_bn[0][0]         \n__________________________________________________________________________________________________\nblock7_sepconv2 (SeparableConv2 (None, 14, 14, 728)  536536      block7_sepconv2_act[0][0]        \n__________________________________________________________________________________________________\nblock7_sepconv2_bn (BatchNormal (None, 14, 14, 728)  2912        block7_sepconv2[0][0]            \n__________________________________________________________________________________________________\nblock7_sepconv3_act (Activation (None, 14, 14, 728)  0           block7_sepconv2_bn[0][0]         \n__________________________________________________________________________________________________\nblock7_sepconv3 (SeparableConv2 (None, 14, 14, 728)  536536      block7_sepconv3_act[0][0]        \n__________________________________________________________________________________________________\nblock7_sepconv3_bn (BatchNormal (None, 14, 14, 728)  2912        block7_sepconv3[0][0]            \n__________________________________________________________________________________________________\nadd_6 (Add)                     (None, 14, 14, 728)  0           block7_sepconv3_bn[0][0]         \n                                                                 add_5[0][0]                      \n__________________________________________________________________________________________________\nblock8_sepconv1_act (Activation (None, 14, 14, 728)  0           add_6[0][0]                      \n__________________________________________________________________________________________________\nblock8_sepconv1 (SeparableConv2 (None, 14, 14, 728)  536536      block8_sepconv1_act[0][0]        \n__________________________________________________________________________________________________\nblock8_sepconv1_bn (BatchNormal (None, 14, 14, 728)  2912        block8_sepconv1[0][0]            \n__________________________________________________________________________________________________\nblock8_sepconv2_act (Activation (None, 14, 14, 728)  0           block8_sepconv1_bn[0][0]         \n__________________________________________________________________________________________________\nblock8_sepconv2 (SeparableConv2 (None, 14, 14, 728)  536536      block8_sepconv2_act[0][0]        \n__________________________________________________________________________________________________\nblock8_sepconv2_bn (BatchNormal (None, 14, 14, 728)  2912        block8_sepconv2[0][0]            \n__________________________________________________________________________________________________\nblock8_sepconv3_act (Activation (None, 14, 14, 728)  0           block8_sepconv2_bn[0][0]         \n__________________________________________________________________________________________________\nblock8_sepconv3 (SeparableConv2 (None, 14, 14, 728)  536536      block8_sepconv3_act[0][0]        \n__________________________________________________________________________________________________\nblock8_sepconv3_bn (BatchNormal (None, 14, 14, 728)  2912        block8_sepconv3[0][0]            \n__________________________________________________________________________________________________\nadd_7 (Add)                     (None, 14, 14, 728)  0           block8_sepconv3_bn[0][0]         \n                                                                 add_6[0][0]                      \n__________________________________________________________________________________________________\nblock9_sepconv1_act (Activation (None, 14, 14, 728)  0           add_7[0][0]                      \n__________________________________________________________________________________________________\nblock9_sepconv1 (SeparableConv2 (None, 14, 14, 728)  536536      block9_sepconv1_act[0][0]        \n__________________________________________________________________________________________________\nblock9_sepconv1_bn (BatchNormal (None, 14, 14, 728)  2912        block9_sepconv1[0][0]            \n__________________________________________________________________________________________________\nblock9_sepconv2_act (Activation (None, 14, 14, 728)  0           block9_sepconv1_bn[0][0]         \n__________________________________________________________________________________________________\nblock9_sepconv2 (SeparableConv2 (None, 14, 14, 728)  536536      block9_sepconv2_act[0][0]        \n__________________________________________________________________________________________________\nblock9_sepconv2_bn (BatchNormal (None, 14, 14, 728)  2912        block9_sepconv2[0][0]            \n__________________________________________________________________________________________________\nblock9_sepconv3_act (Activation (None, 14, 14, 728)  0           block9_sepconv2_bn[0][0]         \n__________________________________________________________________________________________________\nblock9_sepconv3 (SeparableConv2 (None, 14, 14, 728)  536536      block9_sepconv3_act[0][0]        \n__________________________________________________________________________________________________\nblock9_sepconv3_bn (BatchNormal (None, 14, 14, 728)  2912        block9_sepconv3[0][0]            \n__________________________________________________________________________________________________\nadd_8 (Add)                     (None, 14, 14, 728)  0           block9_sepconv3_bn[0][0]         \n                                                                 add_7[0][0]                      \n__________________________________________________________________________________________________\nblock10_sepconv1_act (Activatio (None, 14, 14, 728)  0           add_8[0][0]                      \n__________________________________________________________________________________________________\nblock10_sepconv1 (SeparableConv (None, 14, 14, 728)  536536      block10_sepconv1_act[0][0]       \n__________________________________________________________________________________________________\nblock10_sepconv1_bn (BatchNorma (None, 14, 14, 728)  2912        block10_sepconv1[0][0]           \n__________________________________________________________________________________________________\nblock10_sepconv2_act (Activatio (None, 14, 14, 728)  0           block10_sepconv1_bn[0][0]        \n__________________________________________________________________________________________________\nblock10_sepconv2 (SeparableConv (None, 14, 14, 728)  536536      block10_sepconv2_act[0][0]       \n__________________________________________________________________________________________________\nblock10_sepconv2_bn (BatchNorma (None, 14, 14, 728)  2912        block10_sepconv2[0][0]           \n__________________________________________________________________________________________________\nblock10_sepconv3_act (Activatio (None, 14, 14, 728)  0           block10_sepconv2_bn[0][0]        \n__________________________________________________________________________________________________\nblock10_sepconv3 (SeparableConv (None, 14, 14, 728)  536536      block10_sepconv3_act[0][0]       \n__________________________________________________________________________________________________\nblock10_sepconv3_bn (BatchNorma (None, 14, 14, 728)  2912        block10_sepconv3[0][0]           \n__________________________________________________________________________________________________\nadd_9 (Add)                     (None, 14, 14, 728)  0           block10_sepconv3_bn[0][0]        \n                                                                 add_8[0][0]                      \n__________________________________________________________________________________________________\nblock11_sepconv1_act (Activatio (None, 14, 14, 728)  0           add_9[0][0]                      \n__________________________________________________________________________________________________\nblock11_sepconv1 (SeparableConv (None, 14, 14, 728)  536536      block11_sepconv1_act[0][0]       \n__________________________________________________________________________________________________\nblock11_sepconv1_bn (BatchNorma (None, 14, 14, 728)  2912        block11_sepconv1[0][0]           \n__________________________________________________________________________________________________\nblock11_sepconv2_act (Activatio (None, 14, 14, 728)  0           block11_sepconv1_bn[0][0]        \n__________________________________________________________________________________________________\nblock11_sepconv2 (SeparableConv (None, 14, 14, 728)  536536      block11_sepconv2_act[0][0]       \n__________________________________________________________________________________________________\nblock11_sepconv2_bn (BatchNorma (None, 14, 14, 728)  2912        block11_sepconv2[0][0]           \n__________________________________________________________________________________________________\nblock11_sepconv3_act (Activatio (None, 14, 14, 728)  0           block11_sepconv2_bn[0][0]        \n__________________________________________________________________________________________________\nblock11_sepconv3 (SeparableConv (None, 14, 14, 728)  536536      block11_sepconv3_act[0][0]       \n__________________________________________________________________________________________________\nblock11_sepconv3_bn (BatchNorma (None, 14, 14, 728)  2912        block11_sepconv3[0][0]           \n__________________________________________________________________________________________________\nadd_10 (Add)                    (None, 14, 14, 728)  0           block11_sepconv3_bn[0][0]        \n                                                                 add_9[0][0]                      \n__________________________________________________________________________________________________\nblock12_sepconv1_act (Activatio (None, 14, 14, 728)  0           add_10[0][0]                     \n__________________________________________________________________________________________________\nblock12_sepconv1 (SeparableConv (None, 14, 14, 728)  536536      block12_sepconv1_act[0][0]       \n__________________________________________________________________________________________________\nblock12_sepconv1_bn (BatchNorma (None, 14, 14, 728)  2912        block12_sepconv1[0][0]           \n__________________________________________________________________________________________________\nblock12_sepconv2_act (Activatio (None, 14, 14, 728)  0           block12_sepconv1_bn[0][0]        \n__________________________________________________________________________________________________\nblock12_sepconv2 (SeparableConv (None, 14, 14, 728)  536536      block12_sepconv2_act[0][0]       \n__________________________________________________________________________________________________\nblock12_sepconv2_bn (BatchNorma (None, 14, 14, 728)  2912        block12_sepconv2[0][0]           \n__________________________________________________________________________________________________\nblock12_sepconv3_act (Activatio (None, 14, 14, 728)  0           block12_sepconv2_bn[0][0]        \n__________________________________________________________________________________________________\nblock12_sepconv3 (SeparableConv (None, 14, 14, 728)  536536      block12_sepconv3_act[0][0]       \n__________________________________________________________________________________________________\nblock12_sepconv3_bn (BatchNorma (None, 14, 14, 728)  2912        block12_sepconv3[0][0]           \n__________________________________________________________________________________________________\nadd_11 (Add)                    (None, 14, 14, 728)  0           block12_sepconv3_bn[0][0]        \n                                                                 add_10[0][0]                     \n__________________________________________________________________________________________________\nblock13_sepconv1_act (Activatio (None, 14, 14, 728)  0           add_11[0][0]                     \n__________________________________________________________________________________________________\nblock13_sepconv1 (SeparableConv (None, 14, 14, 728)  536536      block13_sepconv1_act[0][0]       \n__________________________________________________________________________________________________\nblock13_sepconv1_bn (BatchNorma (None, 14, 14, 728)  2912        block13_sepconv1[0][0]           \n__________________________________________________________________________________________________\nblock13_sepconv2_act (Activatio (None, 14, 14, 728)  0           block13_sepconv1_bn[0][0]        \n__________________________________________________________________________________________________\nblock13_sepconv2 (SeparableConv (None, 14, 14, 1024) 752024      block13_sepconv2_act[0][0]       \n__________________________________________________________________________________________________\nblock13_sepconv2_bn (BatchNorma (None, 14, 14, 1024) 4096        block13_sepconv2[0][0]           \n__________________________________________________________________________________________________\nconv2d_4 (Conv2D)               (None, 7, 7, 1024)   745472      add_11[0][0]                     \n__________________________________________________________________________________________________\nblock13_pool (MaxPooling2D)     (None, 7, 7, 1024)   0           block13_sepconv2_bn[0][0]        \n__________________________________________________________________________________________________\nbatch_normalization_4 (BatchNor (None, 7, 7, 1024)   4096        conv2d_4[0][0]                   \n__________________________________________________________________________________________________\nadd_12 (Add)                    (None, 7, 7, 1024)   0           block13_pool[0][0]               \n                                                                 batch_normalization_4[0][0]      \n__________________________________________________________________________________________________\nblock14_sepconv1 (SeparableConv (None, 7, 7, 1536)   1582080     add_12[0][0]                     \n__________________________________________________________________________________________________\nblock14_sepconv1_bn (BatchNorma (None, 7, 7, 1536)   6144        block14_sepconv1[0][0]           \n__________________________________________________________________________________________________\nblock14_sepconv1_act (Activatio (None, 7, 7, 1536)   0           block14_sepconv1_bn[0][0]        \n__________________________________________________________________________________________________\nblock14_sepconv2 (SeparableConv (None, 7, 7, 2048)   3159552     block14_sepconv1_act[0][0]       \n__________________________________________________________________________________________________\nblock14_sepconv2_bn (BatchNorma (None, 7, 7, 2048)   8192        block14_sepconv2[0][0]           \n__________________________________________________________________________________________________\nblock14_sepconv2_act (Activatio (None, 7, 7, 2048)   0           block14_sepconv2_bn[0][0]        \n==================================================================================================\nTotal params: 20,861,480\nTrainable params: 0\nNon-trainable params: 20,861,480\n__________________________________________________________________________________________________\ntest\n(365, 9, 7, 7, 2048)\n(365, 5)\ntrain\n(3054, 9, 7, 7, 2048)\n(3054, 5)\nvalidation\n(396, 9, 7, 7, 2048)\n(396, 5)\n"
    }
   ],
   "source": [
    "img_height = 224\n",
    "img_width = 224\n",
    "no_of_frames = 9\n",
    "channels = 3\n",
    "no_of_epochs = 50\n",
    "batch_size_value = 5\n",
    "\n",
    "cnn_base = Xception(input_shape=(img_width, img_height, channels), weights=\"imagenet\", include_top=False)\n",
    "cnn_base.trainable = False\n",
    "\n",
    "cnn_base.summary()\n",
    "\n",
    "all_labels_array = {'train': [], 'validation': [], 'test': []}\n",
    "all_features_array = {'train': [], 'validation': [], 'test': []}\n",
    "\n",
    "for subj_set in all_images:\n",
    "    print(subj_set)\n",
    "    for i in range(0,len(all_images[subj_set])-8,9):\n",
    "        features_array = np.stack(all_images[subj_set][i:i+9])\n",
    "        predictions = cnn_base.predict(features_array)\n",
    "        all_labels_array[subj_set].append(all_labels[subj_set][i])\n",
    "        all_features_array[subj_set].append(predictions)\n",
    "\n",
    "    all_features_array[subj_set] = np.array(all_features_array[subj_set])\n",
    "    all_labels_array[subj_set] = np.array(all_labels_array[subj_set])\n",
    "    all_labels_array[subj_set] = to_categorical(all_labels_array[subj_set])\n",
    "\n",
    "    print(all_features_array[subj_set].shape)\n",
    "    print(all_labels_array[subj_set].shape)"
   ]
  },
  {
   "cell_type": "code",
   "execution_count": 6,
   "metadata": {
    "tags": [
     "outputPrepend",
     "outputPrepend",
     "outputPrepend"
    ]
   },
   "outputs": [
    {
     "output_type": "stream",
     "name": "stdout",
     "text": "_________________________________________________________________\nLayer (type)                 Output Shape              Param #   \n=================================================================\ninput_3 (InputLayer)         (None, 9, 7, 7, 2048)     0         \n_________________________________________________________________\nconv_lst_m2d_2 (ConvLSTM2D)  (None, 7, 7, 64)          13517056  \n_________________________________________________________________\nglobal_average_pooling2d_2 ( (None, 64)                0         \n_________________________________________________________________\ndense_4 (Dense)              (None, 1024)              66560     \n_________________________________________________________________\ndropout_2 (Dropout)          (None, 1024)              0         \n_________________________________________________________________\ndense_5 (Dense)              (None, 512)               524800    \n_________________________________________________________________\ndense_6 (Dense)              (None, 5)                 2565      \n=================================================================\nTotal params: 14,110,981\nTrainable params: 14,110,981\nNon-trainable params: 0\n_________________________________________________________________\nTrain on 3054 samples, validate on 365 samples\nEpoch 1/50\n3054/3054 [==============================] - 48s 16ms/step - loss: 1.1278 - acc: 0.5108 - val_loss: 0.9351 - val_acc: 0.5589\n\nEpoch 00001: val_acc improved from -inf to 0.55890, saving model to Xception_convLSTM2D.h5\nEpoch 2/50\n3054/3054 [==============================] - 44s 14ms/step - loss: 0.7444 - acc: 0.6834 - val_loss: 0.6238 - val_acc: 0.7068\n\nEpoch 00002: val_acc improved from 0.55890 to 0.70685, saving model to Xception_convLSTM2D.h5\nEpoch 3/50\n3054/3054 [==============================] - 44s 14ms/step - loss: 0.5621 - acc: 0.7665 - val_loss: 0.4769 - val_acc: 0.8027\n\nEpoch 00003: val_acc improved from 0.70685 to 0.80274, saving model to Xception_convLSTM2D.h5\nEpoch 4/50\n3054/3054 [==============================] - 44s 14ms/step - loss: 0.4454 - acc: 0.8212 - val_loss: 0.4507 - val_acc: 0.8438\n\nEpoch 00004: val_acc improved from 0.80274 to 0.84384, saving model to Xception_convLSTM2D.h5\nEpoch 5/50\n3054/3054 [==============================] - 44s 14ms/step - loss: 0.4095 - acc: 0.8428 - val_loss: 0.5264 - val_acc: 0.7644\n\nEpoch 00005: val_acc did not improve from 0.84384\nEpoch 6/50\n3054/3054 [==============================] - 44s 14ms/step - loss: 0.3281 - acc: 0.8703 - val_loss: 0.4228 - val_acc: 0.8110\n\nEpoch 00006: val_acc did not improve from 0.84384\nEpoch 7/50\n3054/3054 [==============================] - 44s 14ms/step - loss: 0.2666 - acc: 0.9008 - val_loss: 0.4251 - val_acc: 0.8192\n\nEpoch 00007: val_acc did not improve from 0.84384\nEpoch 8/50\n3054/3054 [==============================] - 44s 14ms/step - loss: 0.2533 - acc: 0.9021 - val_loss: 0.5193 - val_acc: 0.7918\n\nEpoch 00008: val_acc did not improve from 0.84384\nEpoch 9/50\n3054/3054 [==============================] - 44s 14ms/step - loss: 0.1951 - acc: 0.9309 - val_loss: 0.3473 - val_acc: 0.8658\n\nEpoch 00009: val_acc improved from 0.84384 to 0.86575, saving model to Xception_convLSTM2D.h5\nEpoch 10/50\n3054/3054 [==============================] - 44s 14ms/step - loss: 0.1677 - acc: 0.9417 - val_loss: 0.3428 - val_acc: 0.8603\n\nEpoch 00010: val_acc did not improve from 0.86575\nEpoch 11/50\n3054/3054 [==============================] - 44s 14ms/step - loss: 0.1430 - acc: 0.9528 - val_loss: 0.7483 - val_acc: 0.7562\n\nEpoch 00011: val_acc did not improve from 0.86575\nEpoch 12/50\n3054/3054 [==============================] - 44s 14ms/step - loss: 0.1107 - acc: 0.9676 - val_loss: 0.6382 - val_acc: 0.7671\n\nEpoch 00012: val_acc did not improve from 0.86575\nEpoch 13/50\n3054/3054 [==============================] - 44s 14ms/step - loss: 0.0932 - acc: 0.9728 - val_loss: 0.6869 - val_acc: 0.7863\n\nEpoch 00013: val_acc did not improve from 0.86575\nEpoch 14/50\n3054/3054 [==============================] - 44s 14ms/step - loss: 0.0704 - acc: 0.9800 - val_loss: 0.4677 - val_acc: 0.8438\n\nEpoch 00014: val_acc did not improve from 0.86575\nEpoch 15/50\n3054/3054 [==============================] - 44s 14ms/step - loss: 0.0410 - acc: 0.9938 - val_loss: 1.0740 - val_acc: 0.7397\n\nEpoch 00015: val_acc did not improve from 0.86575\nEpoch 16/50\n3054/3054 [==============================] - 44s 14ms/step - loss: 0.0675 - acc: 0.9813 - val_loss: 0.6476 - val_acc: 0.8411\n\nEpoch 00016: val_acc did not improve from 0.86575\nEpoch 17/50\n3054/3054 [==============================] - 44s 14ms/step - loss: 0.0245 - acc: 0.9967 - val_loss: 0.4959 - val_acc: 0.8411\n\nEpoch 00017: val_acc did not improve from 0.86575\nEpoch 18/50\n3054/3054 [==============================] - 44s 14ms/step - loss: 0.0222 - acc: 0.9971 - val_loss: 0.4860 - val_acc: 0.8466\n\nEpoch 00018: val_acc did not improve from 0.86575\nEpoch 19/50\n3054/3054 [==============================] - 44s 14ms/step - loss: 0.0102 - acc: 1.0000 - val_loss: 0.4672 - val_acc: 0.8575\n\nEpoch 00019: val_acc did not improve from 0.86575\nEpoch 20/50\n3054/3054 [==============================] - 44s 14ms/step - loss: 0.0049 - acc: 1.0000 - val_loss: 0.4694 - val_acc: 0.8575\n\nEpoch 00020: val_acc did not improve from 0.86575\nEpoch 21/50\n3054/3054 [==============================] - 44s 14ms/step - loss: 0.0036 - acc: 1.0000 - val_loss: 0.4677 - val_acc: 0.8548\n\nEpoch 00021: val_acc did not improve from 0.86575\nEpoch 22/50\n3054/3054 [==============================] - 44s 14ms/step - loss: 0.0028 - acc: 1.0000 - val_loss: 0.5012 - val_acc: 0.8575\n\nEpoch 00022: val_acc did not improve from 0.86575\nEpoch 23/50\n3054/3054 [==============================] - 44s 14ms/step - loss: 0.0021 - acc: 1.0000 - val_loss: 0.4790 - val_acc: 0.8630\n\nEpoch 00023: val_acc did not improve from 0.86575\nEpoch 24/50\n3054/3054 [==============================] - 44s 14ms/step - loss: 0.0018 - acc: 1.0000 - val_loss: 0.5143 - val_acc: 0.8575\n\nEpoch 00024: val_acc did not improve from 0.86575\nEpoch 25/50\n3054/3054 [==============================] - 44s 14ms/step - loss: 0.0016 - acc: 1.0000 - val_loss: 0.5287 - val_acc: 0.8575\n\nEpoch 00025: val_acc did not improve from 0.86575\nEpoch 26/50\n3054/3054 [==============================] - 44s 14ms/step - loss: 0.0013 - acc: 1.0000 - val_loss: 0.5127 - val_acc: 0.8630\n\nEpoch 00026: val_acc did not improve from 0.86575\nEpoch 27/50\n3054/3054 [==============================] - 44s 14ms/step - loss: 0.0011 - acc: 1.0000 - val_loss: 0.5008 - val_acc: 0.8603\n\nEpoch 00027: val_acc did not improve from 0.86575\nEpoch 28/50\n3054/3054 [==============================] - 44s 14ms/step - loss: 9.6781e-04 - acc: 1.0000 - val_loss: 0.5165 - val_acc: 0.8630\n\nEpoch 00028: val_acc did not improve from 0.86575\nEpoch 29/50\n3054/3054 [==============================] - 44s 14ms/step - loss: 8.1498e-04 - acc: 1.0000 - val_loss: 0.5288 - val_acc: 0.8575\n\nEpoch 00029: val_acc did not improve from 0.86575\nEpoch 30/50\n3054/3054 [==============================] - 44s 14ms/step - loss: 8.3043e-04 - acc: 1.0000 - val_loss: 0.5108 - val_acc: 0.8630\n\nEpoch 00030: val_acc did not improve from 0.86575\nEpoch 31/50\n3054/3054 [==============================] - 44s 14ms/step - loss: 6.7410e-04 - acc: 1.0000 - val_loss: 0.5298 - val_acc: 0.8658\n\nEpoch 00031: val_acc did not improve from 0.86575\nEpoch 32/50\n3054/3054 [==============================] - 44s 14ms/step - loss: 6.2579e-04 - acc: 1.0000 - val_loss: 0.5334 - val_acc: 0.8630\n\nEpoch 00032: val_acc did not improve from 0.86575\nEpoch 33/50\n3054/3054 [==============================] - 44s 14ms/step - loss: 5.7160e-04 - acc: 1.0000 - val_loss: 0.5314 - val_acc: 0.8630\n\nEpoch 00033: val_acc did not improve from 0.86575\nEpoch 34/50\n3054/3054 [==============================] - 44s 14ms/step - loss: 5.3549e-04 - acc: 1.0000 - val_loss: 0.5322 - val_acc: 0.8603\n\nEpoch 00034: val_acc did not improve from 0.86575\nEpoch 35/50\n3054/3054 [==============================] - 44s 14ms/step - loss: 4.3561e-04 - acc: 1.0000 - val_loss: 0.5484 - val_acc: 0.8575\n\nEpoch 00035: val_acc did not improve from 0.86575\nEpoch 36/50\n3054/3054 [==============================] - 44s 14ms/step - loss: 4.3181e-04 - acc: 1.0000 - val_loss: 0.5385 - val_acc: 0.8603\n\nEpoch 00036: val_acc did not improve from 0.86575\nEpoch 37/50\n3054/3054 [==============================] - 44s 14ms/step - loss: 3.6511e-04 - acc: 1.0000 - val_loss: 0.5538 - val_acc: 0.8630\n\nEpoch 00037: val_acc did not improve from 0.86575\nEpoch 38/50\n3054/3054 [==============================] - 44s 14ms/step - loss: 3.6077e-04 - acc: 1.0000 - val_loss: 0.5539 - val_acc: 0.8548\n\nEpoch 00038: val_acc did not improve from 0.86575\nEpoch 39/50\n3054/3054 [==============================] - 44s 14ms/step - loss: 3.0852e-04 - acc: 1.0000 - val_loss: 0.5753 - val_acc: 0.8521\n\nEpoch 00039: val_acc did not improve from 0.86575\nEpoch 40/50\n3054/3054 [==============================] - 44s 14ms/step - loss: 2.9621e-04 - acc: 1.0000 - val_loss: 0.5635 - val_acc: 0.8575\n\nEpoch 00040: val_acc did not improve from 0.86575\nEpoch 41/50\n3054/3054 [==============================] - 44s 14ms/step - loss: 2.6416e-04 - acc: 1.0000 - val_loss: 0.5638 - val_acc: 0.8575\n\nEpoch 00041: val_acc did not improve from 0.86575\nEpoch 42/50\n3054/3054 [==============================] - 44s 14ms/step - loss: 2.5544e-04 - acc: 1.0000 - val_loss: 0.5917 - val_acc: 0.8521\n\nEpoch 00042: val_acc did not improve from 0.86575\nEpoch 43/50\n3054/3054 [==============================] - 44s 14ms/step - loss: 2.3509e-04 - acc: 1.0000 - val_loss: 0.5893 - val_acc: 0.8493\n\nEpoch 00043: val_acc did not improve from 0.86575\nEpoch 44/50\n3054/3054 [==============================] - 44s 14ms/step - loss: 2.2215e-04 - acc: 1.0000 - val_loss: 0.5703 - val_acc: 0.8548\n\nEpoch 00044: val_acc did not improve from 0.86575\nEpoch 45/50\n3054/3054 [==============================] - 44s 14ms/step - loss: 2.0459e-04 - acc: 1.0000 - val_loss: 0.5841 - val_acc: 0.8603\n\nEpoch 00045: val_acc did not improve from 0.86575\nEpoch 46/50\n3054/3054 [==============================] - 44s 14ms/step - loss: 1.9265e-04 - acc: 1.0000 - val_loss: 0.5647 - val_acc: 0.8603\n\nEpoch 00046: val_acc did not improve from 0.86575\nEpoch 47/50\n3054/3054 [==============================] - 44s 14ms/step - loss: 1.6782e-04 - acc: 1.0000 - val_loss: 0.5746 - val_acc: 0.8548\n\nEpoch 00047: val_acc did not improve from 0.86575\nEpoch 48/50\n3054/3054 [==============================] - 44s 14ms/step - loss: 1.5802e-04 - acc: 1.0000 - val_loss: 0.6059 - val_acc: 0.8548\n\nEpoch 00048: val_acc did not improve from 0.86575\nEpoch 49/50\n3054/3054 [==============================] - 44s 14ms/step - loss: 1.4381e-04 - acc: 1.0000 - val_loss: 0.5870 - val_acc: 0.8548\n\nEpoch 00049: val_acc did not improve from 0.86575\nEpoch 50/50\n3054/3054 [==============================] - 44s 14ms/step - loss: 1.3819e-04 - acc: 1.0000 - val_loss: 0.5948 - val_acc: 0.8575\n\nEpoch 00050: val_acc did not improve from 0.86575\n"
    }
   ],
   "source": [
    "img_height = 7\n",
    "img_width = 7\n",
    "no_of_frames = 9\n",
    "channels = 2048\n",
    "no_of_epochs = 50\n",
    "batch_size_value = 5\n",
    "\n",
    "input_video = Input(shape=(no_of_frames, img_width, img_height, channels))\n",
    "encoded_sequence = ConvLSTM2D(64, kernel_size=(5, 5), strides=(1, 1),padding='same', return_sequences=False)(input_video)\n",
    "\n",
    "GAP_layer = GlobalAveragePooling2D()(encoded_sequence)\n",
    "\n",
    "hidden_layer_1 = Dense(activation=\"relu\", units=1024)(GAP_layer)\n",
    "drop_layer=Dropout(0.2)(hidden_layer_1)\n",
    "hidden_layer_2 = Dense(activation=\"relu\", units=512)(drop_layer)\n",
    "outputs = Dense(5, activation=\"softmax\")(hidden_layer_2)\n",
    "model = Model([input_video], outputs)\n",
    "\n",
    "model.summary()\n",
    "nadam_optimizer = Nadam(lr=0.0001, beta_1=0.9, beta_2=0.999, epsilon=1e-08, schedule_decay=0.004)\n",
    "\n",
    "model.compile(loss=\"categorical_crossentropy\", optimizer=nadam_optimizer, metrics=[\"accuracy\"])\n",
    "\n",
    "\n",
    "# Save the model according to the conditions\n",
    "checkpoint = ModelCheckpoint(\"Xception_convLSTM2D.h5\", monitor='val_acc', verbose=1, save_best_only=True,\n",
    "                            save_weights_only=False,\n",
    "                            mode='auto', period=1)\n",
    "\n",
    "history = model.fit(\n",
    "        all_features_array['train'], all_labels_array['train'],\n",
    "        validation_data=(all_features_array['validation'], all_labels_array['validation']),\n",
    "        verbose=1,\n",
    "        epochs=no_of_epochs,\n",
    "        callbacks=[checkpoint])"
   ]
  },
  {
   "cell_type": "code",
   "execution_count": null,
   "metadata": {},
   "outputs": [],
   "source": [
    "prediction = model.evaluate_generator(all_features_array['test'])\n",
    "print(\"Loss: \", prediction[0], \"Accuracy: \", prediction[1])\n",
    "\n",
    "# Plot training & validation accuracy values\n",
    "plt.plot(history.history['acc'])\n",
    "plt.plot(history.history['val_acc'])\n",
    "plt.title('Model accuracy')\n",
    "plt.ylabel('Accuracy')\n",
    "plt.xlabel('Epoch')\n",
    "plt.legend(['Training', 'Validation'], loc='upper left')\n",
    "plt.show()\n",
    "\n",
    "# Plot training & validation loss values\n",
    "plt.plot(history.history['loss'])\n",
    "plt.plot(history.history['val_loss'])\n",
    "plt.title('Model loss')\n",
    "plt.ylabel('Loss')\n",
    "plt.xlabel('Epoch')\n",
    "plt.legend(['Training', 'Validation'], loc='upper left')\n",
    "plt.show()\n"
   ]
  },
  {
   "cell_type": "code",
   "execution_count": null,
   "metadata": {},
   "outputs": [],
   "source": [
    "path = '/home/datasets/metadata'\n",
    "\n",
    "count = 0\n",
    "for pathology in os.listdir(path):\n",
    "    pathology_dir = os.path.join(path,pathology)\n",
    "    for subject in os.listdir(pathology_dir):\n",
    "        if subject != 's3':continue\n",
    "        path2 = os.path.join(pathology_dir,subject,'silhouettes','side_view','metadata','key_frames.json')\n",
    "        with open(path2) as f:\n",
    "           key_frames = json.load(f)\n",
    "        \n",
    "        for pat in key_frames:\n",
    "            print(pat)\n",
    "            count += len(key_frames[pat])\n",
    "print(count//9)"
   ]
  },
  {
   "cell_type": "code",
   "execution_count": null,
   "metadata": {},
   "outputs": [],
   "source": []
  }
 ],
 "metadata": {
  "language_info": {
   "codemirror_mode": {
    "name": "ipython",
    "version": 3
   },
   "file_extension": ".py",
   "mimetype": "text/x-python",
   "name": "python",
   "nbconvert_exporter": "python",
   "pygments_lexer": "ipython3",
   "version": "3.5.2-final"
  },
  "orig_nbformat": 2,
  "kernelspec": {
   "name": "python35264bit867c850e5575457898859399629e92fc",
   "display_name": "Python 3.5.2 64-bit",
   "metadata": {
    "interpreter": {
     "hash": "e534e48711db4d1e1c48977d0d14ff85b1f16d41bcc4fdfd88268a329b3c9d66"
    }
   }
  }
 },
 "nbformat": 4,
 "nbformat_minor": 2
}