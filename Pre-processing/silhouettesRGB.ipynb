{
 "cells": [
  {
   "cell_type": "code",
   "execution_count": 1,
   "metadata": {},
   "outputs": [
    {
     "output_type": "stream",
     "name": "stdout",
     "text": "/home\n"
    }
   ],
   "source": [
    "import sys\n",
    "# Get path to directory with functions for dataset processing\n",
    "sys.path.append('/home/pfa/Documents/Code')\n",
    "import argparse\n",
    "import os\n",
    "import cv2\n",
    "import numpy as np\n",
    "import background_subtraction\n",
    "import resize\n",
    "import vid2jpg\n",
    "# from imageio import imread\n",
    "from PIL import Image\n",
    "from matplotlib import pyplot as plt\n",
    "from skimage import morphology\n",
    "from scipy.ndimage import label\n",
    "from skimage.measure import regionprops\n",
    "from sort import sort_nicely\n",
    "\n",
    "os.chdir('/home')\n",
    "dir = os.getcwd()\n",
    "print(dir)\n",
    "\n",
    "# Define source and destination directory paths\n",
    "pathIn = 'datasets/FCCN_Videos'\n",
    "pathOut = 'pfa/Documents/GAIT-IT-RGB'"
   ]
  },
  {
   "cell_type": "code",
   "execution_count": 2,
   "metadata": {},
   "outputs": [
    {
     "output_type": "stream",
     "name": "stdout",
     "text": "['s1', 's2', 's3', 's4', 's5', 's6', 's7', 's8', 's9', 's10', 's11', 's12', 's13', 's14', 's15', 's16', 's17', 's18', 's19', 's20', 's21', 's22', 's23']\n"
    }
   ],
   "source": [
    "# Lists with pathologies and subjects\n",
    "pathologies = {'Diplegic': 'pat1', 'Hemiplegic': 'pat2', 'Neuropathic': 'pat3', 'Normal': 'normal', 'Parkinson': 'pat4'}\n",
    "cameras = {'Camera 1': 'front_view', 'Camera 3': 'side_view'}\n",
    "severity2lvl = {'s1': 'lvl1', 's2': 'lvl2', 'Normal': ''}\n",
    "subs = os.listdir(pathIn)\n",
    "sort_nicely(subs)\n",
    "print(subs)"
   ]
  },
  {
   "cell_type": "code",
   "execution_count": 8,
   "metadata": {},
   "outputs": [],
   "source": [
    "# Iterate through pathologies to access each pathology directory\n",
    "for pathology in pathologies:\n",
    "\n",
    "    # Create folder path for each pathology in DATASETS directory\n",
    "    pathology_dir = os.path.join(pathOut, pathology)\n",
    "    os.mkdir(pathology_dir)\n",
    "\n",
    "    # Create folder for each subject in each pathology directory\n",
    "    for sub in subs:\n",
    "        sub_dir = os.path.join(pathology_dir, sub)\n",
    "        os.mkdir(sub_dir)\n",
    "\n",
    "        # Create folder for binary silhouettes\n",
    "        sub_dir_silhouettes = os.path.join(sub_dir, 'silhouettes')\n",
    "        os.mkdir(sub_dir_silhouettes)\n",
    "\n",
    "        # Create folder for each view angle in the subject silhouettes directories\n",
    "        for view in ['side_view']:\n",
    "            # Silhouettes\n",
    "            silhouettes_view_dir = os.path.join(sub_dir_silhouettes, view)\n",
    "            os.mkdir(silhouettes_view_dir)\n",
    "\n",
    "            for severity in ['lvl1', 'lvl2']:\n",
    "                \n",
    "                folder_name = sub + pathologies[pathology] + severity\n",
    "\n",
    "                if pathology == 'Normal':\n",
    "                    folder_name = sub + pathologies[pathology]\n",
    "                    \n",
    "                # Silhouettes\n",
    "                silhouettes_severity_dir = os.path.join(silhouettes_view_dir, folder_name)\n",
    "                os.mkdir(silhouettes_severity_dir)\n",
    "\n",
    "                if pathology == 'Normal':\n",
    "                    break\n",
    "    \n"
   ]
  },
  {
   "cell_type": "code",
   "execution_count": 9,
   "metadata": {},
   "outputs": [],
   "source": [
    "# Iterate through subject folders\n",
    "for sub in subs:\n",
    "    \n",
    "    sub_dir = os.path.join(pathIn, sub)\n",
    "\n",
    "    # Get video sequences from subject\n",
    "    sequences = os.listdir(sub_dir)\n",
    "    sort_nicely(sequences)\n",
    "\n",
    "    for sequence in sequences:\n",
    "        \n",
    "        # Source path for video\n",
    "        src = os.path.join(sub_dir, sequence)\n",
    "\n",
    "        # Destination folder for silhouettes\n",
    "        for pathology in pathologies:\n",
    "            if pathology in sequence:\n",
    "                for camera in ['Camera 3']:\n",
    "                    if camera in sequence:\n",
    "                        for severity in severity2lvl:\n",
    "                            if severity in sequence:\n",
    "                                \n",
    "                                # Final folder name: subXpatYlvlZ_Wdireaction\n",
    "                                dest_folder_name = sub+pathologies[pathology]+severity2lvl[severity]\n",
    "\n",
    "                                if pathology == 'Normal':\n",
    "                                    dest_folder_name = sub + pathologies[pathology]\n",
    "\n",
    "                                # pathology/subject/view/subXpatYlvlZ_Wdireaction\n",
    "                                dest_dir = os.path.join(pathOut,pathology,sub,'silhouettes',cameras[camera],dest_folder_name)\n",
    "        \n",
    "                                # Decompress video into frames\n",
    "                                frames = vid2jpg.extractFrames(src)\n",
    "\n",
    "                                # silhouettes = background_subtraction.bgn_sub_MOG(frames)\n",
    "                                masks, silhouettes = background_subtraction.bgn_sub_green_side_silhouettes(frames)\n",
    "\n",
    "                                count = resize.resize_silhouettesRGB(masks, silhouettes, dest_dir)"
   ]
  },
  {
   "cell_type": "code",
   "execution_count": null,
   "metadata": {},
   "outputs": [],
   "source": []
  }
 ],
 "metadata": {
  "language_info": {
   "name": "python",
   "codemirror_mode": {
    "name": "ipython",
    "version": 3
   },
   "version": "3.5.2-final"
  },
  "orig_nbformat": 2,
  "file_extension": ".py",
  "mimetype": "text/x-python",
  "name": "python",
  "npconvert_exporter": "python",
  "pygments_lexer": "ipython3",
  "version": 3,
  "kernelspec": {
   "name": "python36464bit16ad1e6418684a2587896f22fe808a37",
   "display_name": "Python 3.6.4 64-bit"
  }
 },
 "nbformat": 4,
 "nbformat_minor": 2
}